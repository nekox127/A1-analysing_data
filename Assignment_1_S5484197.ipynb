{
 "cells": [
  {
   "cell_type": "markdown",
   "metadata": {
    "id": "rbgjVp6BXGCT"
   },
   "source": [
    "\n",
    "# **Assignment 1**\n",
    "\n",
    "\n",
    "## Task 1. Correlation\n",
    "We will use the data example from the textbook \"Statistical Analysis with The General Linear Model\" by Miller and Haden (2013), Chapter 11.\n",
    "\n",
    "As in Miller and Haden, we have five columns:\n",
    "\n",
    "-Participant (Participant),\n",
    "\n",
    "-Reading Ability (Abil),\n",
    "\n",
    "-Intelligence (IQ),\n",
    "\n",
    "-Number of minutes spent reading at home per week (Home),\n",
    "\n",
    "-Number of minutes spent watching TV per week (TV).\n",
    "\n",
    "\n",
    "For the task we will focus on the relationship between Reading Ability and IQ, but for further practice you can look at other relationships on your own."
   ]
  },
  {
   "cell_type": "markdown",
   "metadata": {
    "id": "Z4cXzKORYFaD"
   },
   "source": [
    "**Question 1**:\n",
    "\n",
    "a. Check whether the data is interval, ratio, or ordinal.\n",
    "\n",
    "b. Check whether there is a data point for each participant on both variables.\n",
    "\n",
    "c. Check whether the data is normally distributed in both variables.\n",
    "\n",
    "d. Create a scatter plot with Reading Ability being the x-axis and IQ, being the y-axis.\n",
    "\n",
    "e. Draw a correlation line on the scatter plot.\n",
    "\n",
    "\n",
    "**Instructions:**\n",
    "\n",
    "1. Load the necessary libraries and explain why you need them (\"#used for ...\").\n",
    "\n",
    "2. Read the MillerHadenData.csv file into a DataFrame and name it \"df_mh\"."
   ]
  },
  {
   "cell_type": "code",
   "execution_count": 1,
   "metadata": {
    "id": "140M8Z4qYn_G"
   },
   "outputs": [],
   "source": [
    "import pandas as pd # used for data wrangling\n",
    "import seaborn as sns # used for data visualization\n",
    "import matplotlib  # used for plotting\n",
    "from matplotlib import pyplot as plt # used for generating various plots\n",
    "import pylab # used for combining NumPy with Matplotlib\n",
    "import pingouin as pg # used for statistical tests\n",
    "\n",
    "# Relative path to read this CSV file from within the zip file provided to students\n",
    "df_mh = pd.read_csv('data for A1/MillerHadenData.csv')  "
   ]
  },
  {
   "cell_type": "code",
   "execution_count": 7,
   "metadata": {
    "id": "rwqidw5q2D1n"
   },
   "outputs": [
    {
     "data": {
      "text/html": [
       "<div>\n",
       "<style scoped>\n",
       "    .dataframe tbody tr th:only-of-type {\n",
       "        vertical-align: middle;\n",
       "    }\n",
       "\n",
       "    .dataframe tbody tr th {\n",
       "        vertical-align: top;\n",
       "    }\n",
       "\n",
       "    .dataframe thead th {\n",
       "        text-align: right;\n",
       "    }\n",
       "</style>\n",
       "<table border=\"1\" class=\"dataframe\">\n",
       "  <thead>\n",
       "    <tr style=\"text-align: right;\">\n",
       "      <th></th>\n",
       "      <th>Participant</th>\n",
       "      <th>Abil</th>\n",
       "      <th>IQ</th>\n",
       "      <th>Home</th>\n",
       "      <th>TV</th>\n",
       "    </tr>\n",
       "  </thead>\n",
       "  <tbody>\n",
       "    <tr>\n",
       "      <th>0</th>\n",
       "      <td>1</td>\n",
       "      <td>61</td>\n",
       "      <td>107</td>\n",
       "      <td>144</td>\n",
       "      <td>487</td>\n",
       "    </tr>\n",
       "    <tr>\n",
       "      <th>1</th>\n",
       "      <td>2</td>\n",
       "      <td>56</td>\n",
       "      <td>109</td>\n",
       "      <td>123</td>\n",
       "      <td>608</td>\n",
       "    </tr>\n",
       "    <tr>\n",
       "      <th>2</th>\n",
       "      <td>3</td>\n",
       "      <td>45</td>\n",
       "      <td>81</td>\n",
       "      <td>108</td>\n",
       "      <td>640</td>\n",
       "    </tr>\n",
       "    <tr>\n",
       "      <th>3</th>\n",
       "      <td>4</td>\n",
       "      <td>66</td>\n",
       "      <td>100</td>\n",
       "      <td>155</td>\n",
       "      <td>493</td>\n",
       "    </tr>\n",
       "    <tr>\n",
       "      <th>4</th>\n",
       "      <td>5</td>\n",
       "      <td>49</td>\n",
       "      <td>92</td>\n",
       "      <td>103</td>\n",
       "      <td>636</td>\n",
       "    </tr>\n",
       "  </tbody>\n",
       "</table>\n",
       "</div>"
      ],
      "text/plain": [
       "   Participant  Abil   IQ  Home   TV\n",
       "0            1    61  107   144  487\n",
       "1            2    56  109   123  608\n",
       "2            3    45   81   108  640\n",
       "3            4    66  100   155  493\n",
       "4            5    49   92   103  636"
      ]
     },
     "execution_count": 7,
     "metadata": {},
     "output_type": "execute_result"
    }
   ],
   "source": [
    "# Q1a (code):\n",
    "# Display first few rows of the dataframe\n",
    "df_mh.head()"
   ]
  },
  {
   "cell_type": "code",
   "execution_count": 8,
   "metadata": {},
   "outputs": [
    {
     "data": {
      "text/html": [
       "<div>\n",
       "<style scoped>\n",
       "    .dataframe tbody tr th:only-of-type {\n",
       "        vertical-align: middle;\n",
       "    }\n",
       "\n",
       "    .dataframe tbody tr th {\n",
       "        vertical-align: top;\n",
       "    }\n",
       "\n",
       "    .dataframe thead th {\n",
       "        text-align: right;\n",
       "    }\n",
       "</style>\n",
       "<table border=\"1\" class=\"dataframe\">\n",
       "  <thead>\n",
       "    <tr style=\"text-align: right;\">\n",
       "      <th></th>\n",
       "      <th>Participant</th>\n",
       "      <th>Abil</th>\n",
       "      <th>IQ</th>\n",
       "      <th>Home</th>\n",
       "      <th>TV</th>\n",
       "    </tr>\n",
       "  </thead>\n",
       "  <tbody>\n",
       "    <tr>\n",
       "      <th>count</th>\n",
       "      <td>25.000000</td>\n",
       "      <td>25.000000</td>\n",
       "      <td>25.000000</td>\n",
       "      <td>25.000000</td>\n",
       "      <td>25.000000</td>\n",
       "    </tr>\n",
       "    <tr>\n",
       "      <th>mean</th>\n",
       "      <td>13.000000</td>\n",
       "      <td>55.120000</td>\n",
       "      <td>100.040000</td>\n",
       "      <td>124.000000</td>\n",
       "      <td>599.920000</td>\n",
       "    </tr>\n",
       "    <tr>\n",
       "      <th>std</th>\n",
       "      <td>7.359801</td>\n",
       "      <td>6.084954</td>\n",
       "      <td>9.043782</td>\n",
       "      <td>21.039645</td>\n",
       "      <td>95.056965</td>\n",
       "    </tr>\n",
       "    <tr>\n",
       "      <th>min</th>\n",
       "      <td>1.000000</td>\n",
       "      <td>45.000000</td>\n",
       "      <td>81.000000</td>\n",
       "      <td>87.000000</td>\n",
       "      <td>407.000000</td>\n",
       "    </tr>\n",
       "    <tr>\n",
       "      <th>25%</th>\n",
       "      <td>7.000000</td>\n",
       "      <td>50.000000</td>\n",
       "      <td>95.000000</td>\n",
       "      <td>108.000000</td>\n",
       "      <td>523.000000</td>\n",
       "    </tr>\n",
       "    <tr>\n",
       "      <th>50%</th>\n",
       "      <td>13.000000</td>\n",
       "      <td>54.000000</td>\n",
       "      <td>100.000000</td>\n",
       "      <td>123.000000</td>\n",
       "      <td>636.000000</td>\n",
       "    </tr>\n",
       "    <tr>\n",
       "      <th>75%</th>\n",
       "      <td>19.000000</td>\n",
       "      <td>61.000000</td>\n",
       "      <td>104.000000</td>\n",
       "      <td>141.000000</td>\n",
       "      <td>673.000000</td>\n",
       "    </tr>\n",
       "    <tr>\n",
       "      <th>max</th>\n",
       "      <td>25.000000</td>\n",
       "      <td>67.000000</td>\n",
       "      <td>118.000000</td>\n",
       "      <td>161.000000</td>\n",
       "      <td>787.000000</td>\n",
       "    </tr>\n",
       "  </tbody>\n",
       "</table>\n",
       "</div>"
      ],
      "text/plain": [
       "       Participant       Abil          IQ        Home          TV\n",
       "count    25.000000  25.000000   25.000000   25.000000   25.000000\n",
       "mean     13.000000  55.120000  100.040000  124.000000  599.920000\n",
       "std       7.359801   6.084954    9.043782   21.039645   95.056965\n",
       "min       1.000000  45.000000   81.000000   87.000000  407.000000\n",
       "25%       7.000000  50.000000   95.000000  108.000000  523.000000\n",
       "50%      13.000000  54.000000  100.000000  123.000000  636.000000\n",
       "75%      19.000000  61.000000  104.000000  141.000000  673.000000\n",
       "max      25.000000  67.000000  118.000000  161.000000  787.000000"
      ]
     },
     "execution_count": 8,
     "metadata": {},
     "output_type": "execute_result"
    }
   ],
   "source": [
    "# Q1a (code):\n",
    "# Check data types and information\n",
    "df_mh.describe()\n",
    "#Abil: interval; IQ: interval"
   ]
  },
  {
   "cell_type": "code",
   "execution_count": 19,
   "metadata": {
    "id": "Edd9mYgi2Jar"
   },
   "outputs": [
    {
     "data": {
      "text/plain": [
       "Participant    0\n",
       "Abil           0\n",
       "IQ             0\n",
       "Home           0\n",
       "TV             0\n",
       "dtype: int64"
      ]
     },
     "execution_count": 19,
     "metadata": {},
     "output_type": "execute_result"
    }
   ],
   "source": [
    "# Q1b (code):\n",
    "# Check for missing values\n",
    "df_mh.isnull().sum()\n",
    "#result: no missing values"
   ]
  },
  {
   "cell_type": "code",
   "execution_count": 16,
   "metadata": {},
   "outputs": [
    {
     "data": {
      "text/plain": [
       "0     False\n",
       "1     False\n",
       "2     False\n",
       "3     False\n",
       "4     False\n",
       "5     False\n",
       "6     False\n",
       "7     False\n",
       "8     False\n",
       "9     False\n",
       "10    False\n",
       "11    False\n",
       "12    False\n",
       "13    False\n",
       "14    False\n",
       "15    False\n",
       "16    False\n",
       "17    False\n",
       "18    False\n",
       "19    False\n",
       "20    False\n",
       "21    False\n",
       "22    False\n",
       "23    False\n",
       "24    False\n",
       "dtype: bool"
      ]
     },
     "execution_count": 16,
     "metadata": {},
     "output_type": "execute_result"
    }
   ],
   "source": [
    "# Q1b (code):\n",
    "# Check whether there is a data point for each participant on both variables\n",
    "df_mh[['Participant', 'Abil', 'IQ']].isnull().any(axis=1)\n",
    "#result: there is a data point for each participant on both variables"
   ]
  },
  {
   "cell_type": "code",
   "execution_count": 12,
   "metadata": {
    "id": "3ALe0fjr2K5h"
   },
   "outputs": [
    {
     "data": {
      "text/plain": [
       "array([[<Axes: title={'center': 'Participant'}>,\n",
       "        <Axes: title={'center': 'Abil'}>],\n",
       "       [<Axes: title={'center': 'IQ'}>, <Axes: title={'center': 'Home'}>],\n",
       "       [<Axes: title={'center': 'TV'}>, <Axes: >]], dtype=object)"
      ]
     },
     "execution_count": 12,
     "metadata": {},
     "output_type": "execute_result"
    },
    {
     "data": {
      "image/png": "[encoded data removed]",
      "text/plain": [
       "<Figure size 640x480 with 6 Axes>"
      ]
     },
     "metadata": {},
     "output_type": "display_data"
    }
   ],
   "source": [
    "# Q1c (code):\n",
    "# Check data distribution\n",
    "df_mh.hist()"
   ]
  },
  {
   "cell_type": "code",
   "execution_count": 27,
   "metadata": {
    "id": "xaQ300fY2MPe"
   },
   "outputs": [
    {
     "data": {
      "image/png": "[encoded data removed]",
      "text/plain": [
       "<Figure size 640x480 with 1 Axes>"
      ]
     },
     "metadata": {},
     "output_type": "display_data"
    }
   ],
   "source": [
    "# Q1d (code):\n",
    "# Scatter plot\n",
    "plt.scatter(df_mh['Abil'],df_mh['IQ'])\n",
    "plt.xlabel('Abil')\n",
    "plt.ylabel('IQ')\n",
    "plt.title('Scatter Plot of Reading Ability and Intelligence')\n",
    "plt.show()"
   ]
  },
  {
   "cell_type": "code",
   "execution_count": 42,
   "metadata": {
    "id": "Zpkwqc382N06"
   },
   "outputs": [
    {
     "data": {
      "text/plain": [
       "Text(0.5, 1.0, 'Scatter Plot of Reading Ability and Intelligence with Correlation Line')"
      ]
     },
     "execution_count": 42,
     "metadata": {},
     "output_type": "execute_result"
    },
    {
     "data": {
      "image/png": "[encoded data removed]",
      "text/plain": [
       "<Figure size 640x480 with 1 Axes>"
      ]
     },
     "metadata": {},
     "output_type": "display_data"
    }
   ],
   "source": [
    "# Q1e (code):\n",
    "# Correlation line\n",
    "#Using regplot to generate the correlation line and specifying a distinct color to enhance visibility\n",
    "sns.regplot(x='Abil', y='IQ', data=df_mh, line_kws={'color': 'red'})\n",
    "plt.title('Scatter Plot of Reading Ability and Intelligence with Correlation Line')"
   ]
  },
  {
   "cell_type": "markdown",
   "metadata": {
    "id": "tKtW2diqZq1S"
   },
   "source": [
    "**Question 2**:\n",
    "\n",
    "a. Which correlation coefficient test can we use, Pearson or Spearman? Briefly explian why based on the results of Question 1.\n",
    "\n",
    "b. Conduct a correlation coefficient test.\n",
    "\n",
    "c. Interpret the result (direction and strength of the association between the two varibles)"
   ]
  },
  {
   "cell_type": "markdown",
   "metadata": {
    "id": "t5GRVxHwaKIS"
   },
   "source": [
    "**<span style=\"color: green;\">#Q2a (answer with words):   \n",
    "#Answer:</span>**   \n",
    "    #The scatter plot results in Question 1 shows a linear relationship between the variables.  \n",
    "    #The Pearson correlation test is preferred."
   ]
  },
  {
   "cell_type": "code",
   "execution_count": 35,
   "metadata": {
    "id": "LTSp6xMFaKgf"
   },
   "outputs": [
    {
     "name": "stdout",
     "output_type": "stream",
     "text": [
      "          n        r         CI95%     p-val   BF10     power\n",
      "pearson  25  0.45117  [0.07, 0.72]  0.023593  2.804  0.640299\n"
     ]
    }
   ],
   "source": [
    "# Q2b (code):\n",
    "corr_result = pg.corr(x=df_mh['Abil'], y=df_mh['IQ'])\n",
    "print(corr_result)"
   ]
  },
  {
   "cell_type": "markdown",
   "metadata": {
    "id": "m_3aCSG7ylFJ"
   },
   "source": [
    "<span style=\"color: green;\">#**Q2c (answer with words):  \n",
    "#Answer**:</span>  \n",
    "\n",
    "n = is the sample size. 25 samples are analyzed.\n",
    "\n",
    "r = is the correlation coefficient. The positive correlation coefficient (r = 0.45117) indicates a positive linear relationship between the variables.  \n",
    "\n",
    "\n",
    "CI95% = are the 95% confidence intervals around the correlation coefficient.\n",
    "\n",
    "p-val = is the p-value of the test. The p-value 0.023593 is less than the common significance level of 0.05, suggesting that there is evidence to reject the null hypothesis of no correlation.   \n",
    "\n",
    "BF10 = is the Bayes Factor of the test, which also measure the statistical significance of the test. BF10 = 2.804, which suggests some evidence in favor of the alternative hypothesis.\n",
    "\n",
    "power = is the achieved power of the test, which is the likelihood that we will detect an effect when there is indeed an effect there to be detected. power = 0.640299, suggesting a relatively good chance of detecting a true effect if it exists."
   ]
  },
  {
   "cell_type": "markdown",
   "metadata": {
    "id": "mogdaz8P27oU"
   },
   "source": [
    "## Task 2. Chi-square Test\n",
    "We will continue to use the data example from Task 1.\n",
    "\n",
    "We want to explore whether there are significant differences in the amount of time spent reading at home per week (Home) among people with different reading abilities (Reading Ability). Therefore, we will divide the reading ability of all participants into two groups. The first group is those with low reading ability (Reading Ability at or below the rounded average), and the second group is those with high reading ability (Reading Ability above the rounded average). We will store this grouping in a new column named \"Rank_Abil\".\n",
    "\n",
    "\n",
    "Similarly, the reading time is divided into two different scenarios: the first scenario is infrequent reading (Home at or below the rounded average), and the other is frequent reading (Reading Ability above the rounded average). We will store this grouping in a new column named \"Rank_Home\".\n",
    "\n",
    "\n",
    "Then, construct a Contingency Matrix and perform a Chi-square test.\n",
    "\n",
    "**Question 3**:\n",
    "\n",
    "a. Please state the null hypothesis (H0) and alternative hypothesis (H1) for this Chi-square test.\n",
    "\n",
    "b. Based on the task description, add new columns “Rank_Abil” and \"Rank_Home\" to the dataframe df_mh.\n",
    "\n",
    "c. Construct a Contingency Matrix.\n",
    "\n",
    "d. Perform a Chi-square test.\n",
    "\n",
    "e. Interpret the results of the Chi-square test (answer in text)."
   ]
  },
  {
   "cell_type": "markdown",
   "metadata": {
    "id": "tIKHfEwG-Pte"
   },
   "source": [
    "<span style=\"color: green;\">**#Q3a (answer in words):**</span>  \n",
    "\n",
    "H0: There is no association between reading ability (low/high) and the amount of time spent reading at home(infrequent/frequent).\n",
    "\n",
    "H1: There is an association between reading ability (low/high) and the amount of time spent reading at home(infrequent/frequent)."
   ]
  },
  {
   "cell_type": "code",
   "execution_count": 40,
   "metadata": {
    "id": "nlO-hmq2-V2Z"
   },
   "outputs": [],
   "source": [
    "# Q3b (code):\n",
    "# Import necessary libraries\n",
    "import pandas as pd  ##used for wrangling\n",
    "from scipy.stats import chi2_contingency ##used for performing the chi-square test of independence\n",
    "\n",
    "# Define the rounded average for Reading Ability and Home\n",
    "rounded_avg_Abil = round(df_mh['Abil'].mean())\n",
    "rounded_avg_home = round(df_mh['Home'].mean())\n",
    "\n",
    "# Create the Rank_Abil column\n",
    "df_mh['Rank_Abil'] = pd.cut(df_mh['Abil'], bins=[-float('inf'), rounded_avg_Abil, float('inf')], labels=['Low', 'High'])\n",
    "\n",
    "\n",
    "# Create the Rank_Home column\n",
    "df_mh['Rank_Home'] = pd.cut(df_mh['Home'], bins=[-float('inf'), rounded_avg_home, float('inf')], labels=['Infrequent', 'Frequent'])"
   ]
  },
  {
   "cell_type": "code",
   "execution_count": 48,
   "metadata": {
    "id": "jjtp4cm4-Y36"
   },
   "outputs": [
    {
     "name": "stdout",
     "output_type": "stream",
     "text": [
      "Contingency Matrix:\n",
      "Rank_Home  Infrequent  Frequent\n",
      "Rank_Abil                      \n",
      "Low                12         3\n",
      "High                2         8\n"
     ]
    }
   ],
   "source": [
    "# Q3c (code):\n",
    "# Construct Contingency Matrix\n",
    "contingency_matrix = pd.crosstab(df_mh['Rank_Abil'], df_mh['Rank_Home'])\n",
    "print('Contingency Matrix:')\n",
    "print(contingency_matrix)"
   ]
  },
  {
   "cell_type": "code",
   "execution_count": 60,
   "metadata": {
    "id": "gyDS8hq2-bmx"
   },
   "outputs": [
    {
     "name": "stdout",
     "output_type": "stream",
     "text": [
      "Chi-square Test Result:\n",
      "Chi-square Statistic: 6.500270562770561\n",
      "P-value: 0.010785807794066234\n"
     ]
    }
   ],
   "source": [
    "# Q3d (code):\n",
    "# Perform the Chi-square test\n",
    "result = chi2_contingency(contingency_matrix)\n",
    "# show the Chi-square Statistic\n",
    "chi2 = result.statistic\n",
    "# show the Pvalue\n",
    "p_value = result.pvalue\n",
    "print('Chi-square Test Result:')\n",
    "print('Chi-square Statistic:', chi2)\n",
    "print('P-value:',p_value)"
   ]
  },
  {
   "cell_type": "markdown",
   "metadata": {
    "id": "fj0gW0pS-dN5"
   },
   "source": [
    "<span style=\"color: green;\">#**Q3e (answer with words):  \n",
    "Answer**:</span>  \n",
    "\n",
    "The chi-square statistic (6.500) is a measure of the difference between the observed and expected frequencies in the contingency table.  \n",
    "The p-value associated with the test is 0.0108, which is less than the commonly chosen significance level of 0.05.  \n",
    "The null hypothesis (H0) is rejected.  \n",
    "There is sufficient evidence to suggest that there is an association between reading ability and the amount of time spent reading at home."
   ]
  },
  {
   "cell_type": "markdown",
   "metadata": {
    "id": "FgYRxqqpaUIk"
   },
   "source": [
    "## Task 3. Two-sample t-test\n",
    "As we discussed on Week 3, Two-sample designs are very useful when we want to know whether there is a difference between groups on a particular variable.\n",
    "\n",
    "In this assignment, you will be guided to replicate the Experiment 4 (p. 887-888) from the paper below, focusing on understanding the data through descriptive statistics, visualizing distributions, testing assumptions (normality and variance homogeneity), and finally performing the independent t-test.\n",
    "\n",
    "Schroeder, J. and Epley, N. (2015). The sound of intellect: Speech reveals a thoughtful mind, increasing a job candidate's appeal. Psychological Science, 26, 277--891.\n",
    "\n",
    "\n",
    "As we explained during Week 3 lecture, there are different types of two-sample designs depending on whether or not the two groups are independent (e.g., different participants in different conditions) or not (e.g., same participants in different conditions). In this course we focus on independent samples, which typically means that the observations in the two groups are unrelated - usually meaning different people. But in real practice you will need to go through similar procedures to determine which is the proper statistical test to use.\n",
    "\n",
    "\n",
    "\n",
    "\n",
    "### Background of data: Speech as indicator of intellect\n",
    "To recap on Experiment 4, 39 professional recruiters from Fortune 500 companies evaluated job pitches of M.B.A. candidates (Masters in Business Administration) from the University of Chicago Booth School of Business. The methods and results appear on pages 887--889 of the article if you want to look at them specifically for more details."
   ]
  },
  {
   "cell_type": "markdown",
   "metadata": {
    "id": "vIc57Glgn5Bb"
   },
   "source": [
    "###Step 1: Analyze the demographics of evaluators from the provided dataset\n",
    "\n",
    "**Instructions:**\n",
    "\n",
    "1. Load the necessary libraries (pandas, scipy, numpy, matplotlib.pyplot, seaborn) and explain why you need them (\"#used for ...\").\n",
    "\n",
    "2. Read the evaluators.csv file into a DataFrame.\n",
    "\n",
    "3. Calculate the mean and standard deviation of the age of the evaluators, handling missing values appropriately.\n",
    "\n",
    "4. Count how many male and female evaluators were in the study.\n",
    "\n",
    "**Question 4:**\n",
    "\n",
    "a. What was the mean age of the evaluators?\n",
    "What was the standard deviation of the age of the evaluators?\n",
    "\n",
    "b. How many participants were female and how many participants were male?\n"
   ]
  },
  {
   "cell_type": "code",
   "execution_count": 61,
   "metadata": {
    "id": "RgnTye-yojyH"
   },
   "outputs": [
    {
     "data": {
      "text/html": [
       "<div>\n",
       "<style scoped>\n",
       "    .dataframe tbody tr th:only-of-type {\n",
       "        vertical-align: middle;\n",
       "    }\n",
       "\n",
       "    .dataframe tbody tr th {\n",
       "        vertical-align: top;\n",
       "    }\n",
       "\n",
       "    .dataframe thead th {\n",
       "        text-align: right;\n",
       "    }\n",
       "</style>\n",
       "<table border=\"1\" class=\"dataframe\">\n",
       "  <thead>\n",
       "    <tr style=\"text-align: right;\">\n",
       "      <th></th>\n",
       "      <th>eval_id</th>\n",
       "      <th>condition</th>\n",
       "      <th>age</th>\n",
       "      <th>sex</th>\n",
       "    </tr>\n",
       "  </thead>\n",
       "  <tbody>\n",
       "    <tr>\n",
       "      <th>0</th>\n",
       "      <td>1</td>\n",
       "      <td>listened</td>\n",
       "      <td>29.0</td>\n",
       "      <td>2.0</td>\n",
       "    </tr>\n",
       "    <tr>\n",
       "      <th>1</th>\n",
       "      <td>2</td>\n",
       "      <td>listened</td>\n",
       "      <td>27.0</td>\n",
       "      <td>2.0</td>\n",
       "    </tr>\n",
       "    <tr>\n",
       "      <th>2</th>\n",
       "      <td>3</td>\n",
       "      <td>listened</td>\n",
       "      <td>27.0</td>\n",
       "      <td>2.0</td>\n",
       "    </tr>\n",
       "    <tr>\n",
       "      <th>3</th>\n",
       "      <td>4</td>\n",
       "      <td>read</td>\n",
       "      <td>40.0</td>\n",
       "      <td>2.0</td>\n",
       "    </tr>\n",
       "    <tr>\n",
       "      <th>4</th>\n",
       "      <td>5</td>\n",
       "      <td>read</td>\n",
       "      <td>32.0</td>\n",
       "      <td>2.0</td>\n",
       "    </tr>\n",
       "  </tbody>\n",
       "</table>\n",
       "</div>"
      ],
      "text/plain": [
       "   eval_id condition   age  sex\n",
       "0        1  listened  29.0  2.0\n",
       "1        2  listened  27.0  2.0\n",
       "2        3  listened  27.0  2.0\n",
       "3        4      read  40.0  2.0\n",
       "4        5      read  32.0  2.0"
      ]
     },
     "execution_count": 61,
     "metadata": {},
     "output_type": "execute_result"
    }
   ],
   "source": [
    "import pandas as pd # used for data wrangling and analysis\n",
    "from scipy import stats #used for statistical analysis\n",
    "import numpy as np #used for numerical computing\n",
    "import matplotlib.pyplot as plt #used for data visualization\n",
    "import seaborn as sns #used for data visualization and statistical graphics\n",
    "\n",
    "# Load the data\n",
    "# Relative path to read this CSV file from within the zip file provided to students\n",
    "df_evaluators = pd.read_csv('data for A1/evaluators.csv')\n",
    "df_evaluators.head()"
   ]
  },
  {
   "cell_type": "code",
   "execution_count": 123,
   "metadata": {},
   "outputs": [
    {
     "data": {
      "text/plain": [
       "eval_id      0\n",
       "condition    0\n",
       "age          5\n",
       "sex          5\n",
       "dtype: int64"
      ]
     },
     "execution_count": 123,
     "metadata": {},
     "output_type": "execute_result"
    }
   ],
   "source": [
    "#Check missing value\n",
    "df_evaluators.isnull().sum()"
   ]
  },
  {
   "cell_type": "code",
   "execution_count": 124,
   "metadata": {},
   "outputs": [],
   "source": [
    "#Drop missing value\n",
    "df_evaluators.dropna(inplace=True)"
   ]
  },
  {
   "cell_type": "code",
   "execution_count": 126,
   "metadata": {},
   "outputs": [
    {
     "data": {
      "text/plain": [
       "eval_id      0\n",
       "condition    0\n",
       "age          0\n",
       "sex          0\n",
       "dtype: int64"
      ]
     },
     "execution_count": 126,
     "metadata": {},
     "output_type": "execute_result"
    }
   ],
   "source": [
    "#Re-check missing value\n",
    "df_evaluators.isnull().sum()"
   ]
  },
  {
   "cell_type": "code",
   "execution_count": 127,
   "metadata": {
    "id": "eDw0XnX3BRhe"
   },
   "outputs": [
    {
     "name": "stdout",
     "output_type": "stream",
     "text": [
      "Mean for Age: 30.852941176470587\n",
      "Standard Deviation: 6.238358141327351\n"
     ]
    }
   ],
   "source": [
    "# Q4a (code):\n",
    "# Calculate mean and standard deviation for age\n",
    "age_mean = df_evaluators['age'].mean()\n",
    "age_std = df_evaluators['age'].std()\n",
    "print('Mean for Age:',age_mean)\n",
    "print('Standard Deviation:',age_std)"
   ]
  },
  {
   "cell_type": "code",
   "execution_count": 128,
   "metadata": {
    "id": "I0tU57R5ufRI"
   },
   "outputs": [
    {
     "name": "stdout",
     "output_type": "stream",
     "text": [
      "Female    30\n",
      "Male       4\n",
      "Name: sex, dtype: int64\n"
     ]
    }
   ],
   "source": [
    "# Q4b (code)\n",
    "# Count male and female evaluators\n",
    "# In the 'sex' column: 1 represents males and 2 represents females\n",
    "# Replace '1'&'2' with 'Male'&'Female' for readability\n",
    "gender_count = df_evaluators['sex'].replace({1.0: 'Male', 2.0: 'Female'}).value_counts()\n",
    "print(gender_count)"
   ]
  },
  {
   "cell_type": "markdown",
   "metadata": {
    "id": "KK-MdZfdpDI3"
   },
   "source": [
    "###Step 2: Calculate overall intellect ratings from evaluators and prepare a combined dataset for analysis\n",
    "\n",
    "We are now going to calculate an overall intellect rating given by each evaluator. To break that down a bit, we are going to calculate how intellectual the evaluators (the raters) thought candidates were overall, depending on whether the evaluators read or listened to the candidates' resume pitches. This is calculated by averaging the ratings of competent, thoughtful and intelligent for each evaluator held within ratings.csv.\n",
    "\n",
    "Note: We are not looking at ratings to individual candidates; we are looking at overall ratings for each evaluator. This is a bit confusing but makes sense if you stop to think about it a little. You can think about it in terms of \"do raters rate differently depending on whether they read or listen to a resume pitch\".\n",
    "We will then combine the overall intellect rating with the overall impression ratings and overall hire ratings for each evaluator, all ready found in ratings.csv. In the end we will have a new new dataframe named \"ratings2\" - which has the below structure:\n",
    "\n",
    "**eval_id** shows the evaluator ID. Each evaluator has a different ID. So all the 1's are the same evaluator.\n",
    "\n",
    "**Category** shows the scale that they were rating on - intellect, hire, impression\n",
    "\n",
    "**Rating** shows the overall rating given by that evaluator on a given scale.\n",
    "\n",
    "**condition** shows whether that evaluator listened to (e.g., evaluators 1, 2 and 3), or read (e.g., evaluator 4) the resume.\n",
    "\n",
    "\n",
    "**Instructions:**\n",
    "\n",
    "1. Load the ratings.csv file.\n",
    "\n",
    "2. Filter and calculate the mean intellect rating for each evaluator.\n",
    "\n",
    "3. Combine this with overall impression and hire ratings to create a new DataFrame named \"rating2\".\n",
    "\n",
    "4. Merge this DataFrame with the evaluator demographics.\n",
    "\n",
    "**Question 5**:\n",
    "\n",
    "Print the head of \"rating2\".\n"
   ]
  },
  {
   "cell_type": "code",
   "execution_count": 129,
   "metadata": {
    "id": "l85NzSC-pj57"
   },
   "outputs": [
    {
     "data": {
      "text/html": [
       "<div>\n",
       "<style scoped>\n",
       "    .dataframe tbody tr th:only-of-type {\n",
       "        vertical-align: middle;\n",
       "    }\n",
       "\n",
       "    .dataframe tbody tr th {\n",
       "        vertical-align: top;\n",
       "    }\n",
       "\n",
       "    .dataframe thead th {\n",
       "        text-align: right;\n",
       "    }\n",
       "</style>\n",
       "<table border=\"1\" class=\"dataframe\">\n",
       "  <thead>\n",
       "    <tr style=\"text-align: right;\">\n",
       "      <th></th>\n",
       "      <th>eval_id</th>\n",
       "      <th>Category</th>\n",
       "      <th>Rating</th>\n",
       "    </tr>\n",
       "  </thead>\n",
       "  <tbody>\n",
       "    <tr>\n",
       "      <th>0</th>\n",
       "      <td>1</td>\n",
       "      <td>competent</td>\n",
       "      <td>6.0</td>\n",
       "    </tr>\n",
       "    <tr>\n",
       "      <th>1</th>\n",
       "      <td>1</td>\n",
       "      <td>thoughtful</td>\n",
       "      <td>6.0</td>\n",
       "    </tr>\n",
       "    <tr>\n",
       "      <th>2</th>\n",
       "      <td>1</td>\n",
       "      <td>intelligent</td>\n",
       "      <td>6.0</td>\n",
       "    </tr>\n",
       "    <tr>\n",
       "      <th>3</th>\n",
       "      <td>1</td>\n",
       "      <td>impression</td>\n",
       "      <td>7.0</td>\n",
       "    </tr>\n",
       "    <tr>\n",
       "      <th>4</th>\n",
       "      <td>1</td>\n",
       "      <td>hire</td>\n",
       "      <td>6.0</td>\n",
       "    </tr>\n",
       "  </tbody>\n",
       "</table>\n",
       "</div>"
      ],
      "text/plain": [
       "   eval_id     Category  Rating\n",
       "0        1    competent     6.0\n",
       "1        1   thoughtful     6.0\n",
       "2        1  intelligent     6.0\n",
       "3        1   impression     7.0\n",
       "4        1         hire     6.0"
      ]
     },
     "execution_count": 129,
     "metadata": {},
     "output_type": "execute_result"
    }
   ],
   "source": [
    "# Load ratings data\n",
    "df_ratings = pd.read_csv('data for A1/ratings.csv')\n",
    "df_ratings.head()"
   ]
  },
  {
   "cell_type": "code",
   "execution_count": 130,
   "metadata": {
    "id": "5dxtVUSMBZwf"
   },
   "outputs": [
    {
     "data": {
      "text/html": [
       "<div>\n",
       "<style scoped>\n",
       "    .dataframe tbody tr th:only-of-type {\n",
       "        vertical-align: middle;\n",
       "    }\n",
       "\n",
       "    .dataframe tbody tr th {\n",
       "        vertical-align: top;\n",
       "    }\n",
       "\n",
       "    .dataframe thead th {\n",
       "        text-align: right;\n",
       "    }\n",
       "</style>\n",
       "<table border=\"1\" class=\"dataframe\">\n",
       "  <thead>\n",
       "    <tr style=\"text-align: right;\">\n",
       "      <th></th>\n",
       "      <th>eval_id</th>\n",
       "      <th>condition</th>\n",
       "      <th>Category</th>\n",
       "      <th>Rating</th>\n",
       "    </tr>\n",
       "  </thead>\n",
       "  <tbody>\n",
       "    <tr>\n",
       "      <th>2</th>\n",
       "      <td>1</td>\n",
       "      <td>listened</td>\n",
       "      <td>hire</td>\n",
       "      <td>6.000000</td>\n",
       "    </tr>\n",
       "    <tr>\n",
       "      <th>1</th>\n",
       "      <td>1</td>\n",
       "      <td>listened</td>\n",
       "      <td>impression</td>\n",
       "      <td>7.000000</td>\n",
       "    </tr>\n",
       "    <tr>\n",
       "      <th>0</th>\n",
       "      <td>1</td>\n",
       "      <td>listened</td>\n",
       "      <td>intelligent</td>\n",
       "      <td>6.000000</td>\n",
       "    </tr>\n",
       "    <tr>\n",
       "      <th>5</th>\n",
       "      <td>2</td>\n",
       "      <td>listened</td>\n",
       "      <td>hire</td>\n",
       "      <td>4.000000</td>\n",
       "    </tr>\n",
       "    <tr>\n",
       "      <th>4</th>\n",
       "      <td>2</td>\n",
       "      <td>listened</td>\n",
       "      <td>impression</td>\n",
       "      <td>4.666667</td>\n",
       "    </tr>\n",
       "  </tbody>\n",
       "</table>\n",
       "</div>"
      ],
      "text/plain": [
       "   eval_id condition     Category    Rating\n",
       "2        1  listened         hire  6.000000\n",
       "1        1  listened   impression  7.000000\n",
       "0        1  listened  intelligent  6.000000\n",
       "5        2  listened         hire  4.000000\n",
       "4        2  listened   impression  4.666667"
      ]
     },
     "execution_count": 130,
     "metadata": {},
     "output_type": "execute_result"
    }
   ],
   "source": [
    "# Q5 (code):\n",
    "# Filter the ratings DataFrame to include only 'thoughtful', 'competent', and 'intelligent' categories\n",
    "filtered_ratings = df_ratings[df_ratings['Category'].isin(['thoughtful', 'competent', 'intelligent'])]\n",
    "\n",
    "# Calculate the mean intellect rating for each evaluator\n",
    "# Group by 'eval_id' and calculate mean, then reset the index to convert groupby object back to DataFrame\n",
    "mean_intellect_ratings = df_ratings[df_ratings['Category'] == 'intelligent'].groupby('eval_id')['Rating'].mean().reset_index()\n",
    "\n",
    "# Add a 'Category' column with the value 'intellect' for these rows\n",
    "mean_intellect_ratings['Category'] = 'intelligent'\n",
    "\n",
    "mean_intellect_ratings.head()\n",
    "# Create a DataFrame for 'impression' and 'hire' ratings\n",
    "other_ratings = df_ratings[df_ratings['Category'].isin(['impression', 'hire'])]\n",
    "\n",
    "# Combine the DataFrames to create 'ratings2'\n",
    "# Concatenate the 'intellect_mean' DataFrame with the 'other_ratings' DataFrame\n",
    "ratings2 = pd.concat([mean_intellect_ratings, other_ratings])\n",
    "\n",
    "# Join 'ratings2' with the 'df_evaluators' DataFrame to add the 'condition' column\n",
    "ratings2 = pd.merge(ratings2, df_evaluators, on='eval_id')\n",
    "\n",
    "# Select only the necessary columns as per the structure required\n",
    "ratings2 = ratings2[['eval_id', 'condition', 'Category', 'Rating']]\n",
    "\n",
    "# Arrange by 'eval_id' and 'Category'\n",
    "ratings2.sort_values(by=['eval_id', 'Category'], inplace=True)\n",
    "\n",
    "# Display the first few rows of the final 'ratings2' DataFrame to verify\n",
    "ratings2.head()"
   ]
  },
  {
   "cell_type": "markdown",
   "metadata": {
    "id": "fOmtKCzEpoOa"
   },
   "source": [
    "###Step 3: Perform descriptive and inferential statistical analyses, including testing assumptions and conducting independent t-tests.\n",
    "\n",
    "We are going to run the t-tests for Intellect, Hire and Impression; each time comparing evaluators overall ratings for the listened group versus overall ratings for the read group to see if there was a significant difference between the two conditions: i.e., did the evaluators who listened to pitches give a significant higher or lower rating than evaluators that read pitches?\n",
    "\n",
    "**Question 6**:\n",
    "\n",
    "a. In terms of hypotheses, how can we phrase the hypothesis?\n",
    "\n",
    "b. Which t-test should we choose, one-tail or two-tail? And explian why.\n",
    "\n",
    "c. What are the independent variable and the dependent variable here?\n",
    "\n"
   ]
  },
  {
   "cell_type": "markdown",
   "metadata": {
    "id": "duti45rG22eS"
   },
   "source": [
    "<span style=\"color: green;\">#**Q6a (answer with words):  \n",
    "#Answer**:</span>  \n",
    "#Null hypothesis:  \n",
    "There is no significant difference in overall ratings between the listened group and the read group for Intellect, Hire, and Impression（μ1=μ2）.  \n",
    "#Alternative hypothesis:  \n",
    "There is a significant difference in overall ratings between the listened group and the read group for Intellect, Hire, and Impression（μ1≠μ2).\n",
    "\n",
    "#we could phrase the null hypothesis for these tests as there is no significant difference between overall ratings on the {insert trait} scale between evaluators who listened to resume pitches and evaluators who read the resume pitches (H0:μ1=μ2). Alternatively, we could state it as there will be a significant difference between overall ratings on the {insert trait} scale between evaluators who listened to resume pitches and evaluators who read the resume pitches (H1:μ1≠μ2)."
   ]
  },
  {
   "cell_type": "markdown",
   "metadata": {
    "id": "EkoM_0js3fyS"
   },
   "source": [
    "<span style=\"color: green;\">#**#Q6b (answer in words):  \n",
    "#Answer**</span>  \n",
    "#Which t-test should we choose, one-tail or two-tail? Explain why.  \n",
    "Since we are interested in whether there is any significant difference in overall ratings, and we don't have a specific hypothesis about the direction of the difference, a two-tailed test is more suitable.Using one-tail t-test can lead to the consequences of missing an effect in the other direction."
   ]
  },
  {
   "cell_type": "markdown",
   "metadata": {
    "id": "073zOlIsI5ws"
   },
   "source": [
    "<span style=\"color: green;\">#**#Q6c (answer in words):  \n",
    "#Answer**</span>  \n",
    "#What are the independent variable and the dependent variable here?  \n",
    "Independent Variable: The method of pitch delivery, which are 'the listened group' and 'the read group'.  \n",
    "Dependent Variable: The overall ratings for 'Intellect', 'Hire', and 'Impression' given by the evaluators."
   ]
  },
  {
   "cell_type": "markdown",
   "metadata": {
    "id": "4g-SpuDX23iL"
   },
   "source": [
    "\n",
    "To clarify, we are going to run three between-subjects t-tests in total; one for intellect ratings; one for hire ratings; one for impression ratings.\n",
    "\n",
    "**Instructions:**\n",
    "\n",
    "1. Descriptive analysis of the ratings.\n",
    "\n",
    "2. Test for normal distribution (Shapiro-Wilk test) and homogeneity of variances (Levene's test) for the intellect, impression, and hire ratings.\n",
    "\n",
    "3. Conduct independent t-tests comparing intellect, impression, and hire ratings between conditions (listened vs. read).\n",
    "\n",
    "Hints: three T-tests need to be performed.\n",
    "\n",
    "**Question 7**:\n",
    "\n",
    "a: Print the test results.\n",
    "\n",
    "b: Interpret the results of the above descriptive statistics, Shapiro-Wilk test, Levene's test, and independent t-tests. Explian why we use these tests and how we made our decisions based on the test result."
   ]
  },
  {
   "cell_type": "code",
   "execution_count": 131,
   "metadata": {
    "id": "QD3ZZRrAq4Gc"
   },
   "outputs": [
    {
     "name": "stdout",
     "output_type": "stream",
     "text": [
      "ratings desc\n",
      "                       count      mean       std       min       25%  \\\n",
      "condition Category                                                     \n",
      "listened  hire          18.0  5.000000  2.142017  1.000000  4.000000   \n",
      "          impression    18.0  5.833333  2.026781  2.333333  4.416667   \n",
      "          intelligent   18.0  5.555556  1.503808  3.000000  5.000000   \n",
      "read      hire          16.0  2.625000  2.028957  0.000000  1.000000   \n",
      "          impression    16.0  3.770833  2.176367  0.333333  1.916667   \n",
      "          intelligent   16.0  3.125000  2.156386  0.000000  2.000000   \n",
      "\n",
      "                            50%       75%       max  \n",
      "condition Category                                   \n",
      "listened  hire         5.000000  7.000000  8.000000  \n",
      "          impression   6.166667  7.333333  8.666667  \n",
      "          intelligent  5.000000  6.000000  9.000000  \n",
      "read      hire         2.000000  3.250000  7.000000  \n",
      "          impression   4.166667  5.333333  7.333333  \n",
      "          intelligent  3.000000  4.250000  7.000000  \n",
      "shapiro results\n",
      "Category\n",
      "hire           (0.9262111186981201, 0.024298088625073433)\n",
      "impression      (0.9654141664505005, 0.34711024165153503)\n",
      "intelligent          (0.9422645568847656, 0.072021484375)\n",
      "Name: Rating, dtype: object\n",
      "levene results\n",
      "{'statistic': 0.7805256064690028, 'p-value': 0.46096378329160037}\n",
      "ttest results\n",
      "{'Intelligent': {'t-statistic': 3.847112143118226, 'p-value': 0.0005370715651524717}, 'Impression': {'t-statistic': 2.860869602041558, 'p-value': 0.007383988665392305}, 'Hire': {'t-statistic': 3.307649481281819, 'p-value': 0.002331537459983369}}\n"
     ]
    }
   ],
   "source": [
    "##Q7a (code):\n",
    "from scipy.stats import shapiro, levene, ttest_ind # used for statistical analyses (Shapiro-Wilk test, Levene's test, independent two-sample t-test)\n",
    "\n",
    "# Descriptive analysis of the ratings\n",
    "ratings_desc = ratings2.groupby(['condition', 'Category'])['Rating'].describe()\n",
    "\n",
    "# Test for normal distribution (Shapiro-Wilk test)\n",
    "shapiro_results = ratings2.groupby('Category')['Rating'].apply(shapiro)\n",
    "\n",
    "# Test for homogeneity of variances (Levene's test)\n",
    "levene_stat, levene_p_value = levene(\n",
    "    ratings2[ratings2['Category'] == 'intelligent']['Rating'],\n",
    "    ratings2[ratings2['Category'] == 'impression']['Rating'],\n",
    "    ratings2[ratings2['Category'] == 'hire']['Rating'])\n",
    "levene_results = {\"statistic\": levene_stat, \"p-value\": levene_p_value}\n",
    "\n",
    "# Independent t-tests\n",
    "#T-tests of 'intelligent'\n",
    "listen_intelligent = ratings2[(ratings2['condition'] == 'listened') & (ratings2['Category'] == 'intelligent')]['Rating']\n",
    "read_intelligent = ratings2[(ratings2['condition'] == 'read') & (ratings2['Category'] == 'intelligent')]['Rating']\n",
    "#T-tests of 'impression'\n",
    "listen_impression = ratings2[(ratings2['condition'] == 'listened') & (ratings2['Category'] == 'impression')]['Rating']\n",
    "read_impression = ratings2[(ratings2['condition'] == 'read') & (ratings2['Category'] == 'impression')]['Rating']\n",
    "#T-tests of 'hire'\n",
    "listen_hire = ratings2[(ratings2['condition'] == 'listened') & (ratings2['Category'] == 'hire')]['Rating']\n",
    "read_hire = ratings2[(ratings2['condition'] == 'read') & (ratings2['Category'] == 'hire')]['Rating']\n",
    "\n",
    "ttest_intelligent = ttest_ind(listen_intelligent, read_intelligent)\n",
    "ttest_impression = ttest_ind(listen_impression, read_impression)\n",
    "ttest_hire = ttest_ind(listen_hire, read_hire)\n",
    "\n",
    "ttest_results = {\n",
    "    \"Intelligent\": {\"t-statistic\": ttest_intelligent.statistic, \"p-value\": ttest_intelligent.pvalue},\n",
    "    \"Impression\": {\"t-statistic\": ttest_impression.statistic, \"p-value\": ttest_impression.pvalue},\n",
    "    \"Hire\": {\"t-statistic\": ttest_hire.statistic, \"p-value\": ttest_hire.pvalue}}\n",
    "\n",
    "\n",
    "print('ratings desc')\n",
    "print(ratings_desc)\n",
    "print('shapiro results')\n",
    "print(shapiro_results)\n",
    "print('levene results') \n",
    "print(levene_results) \n",
    "print('ttest results')\n",
    "print(ttest_results)"
   ]
  },
  {
   "cell_type": "markdown",
   "metadata": {
    "id": "aifm_T8UQwYm"
   },
   "source": [
    "<span style=\"color: green;\">#**#Q7b (answer in words):**</span> \n",
    "\n",
    "ratings desc: It provides a comprehensive overview of statistics and characteristics of data. We can see evalutors tend to give higher ratings when the evaluators listened to the candidates' resume pitches than read.\n",
    "\n",
    "shapiro results: We used this to check whether the ratings within each category and condition are normally distributed. The p-value of 'hire' ratings is less than 0.05, so the hypothesis of normality is rejected. And p-value of 'impression' and 'intelligent' ratings are more than 0.05, especially 'impression' ratings, which suggests they are more likely to be normally distributed.\n",
    "\n",
    "levene results: It is crucial to check whether the variances of ratings are consistent across these conditions before performing the independent t-tests. This is no significant evidence to prove the ratings vary in the listened group and the read group.\n",
    "\n",
    "t-test: The t-test is used to assess whether there is a statistically significant difference between the means of two groups. For 'hire', 'impression' and 'intelligent', the p-values are all below 0.05, which suggests the result is said to be statistically significant. This shows that how the candidates deliver resumes has a significant impact on the ratings evaluators give.\n",
    "\n",
    "In conclusion, evaluators consistently assign higher ratings to candidates when they listen to resume pitches rather than reading them. This underscores the pivotal role of self-introduction in interviews, emphasizing the importance for both interviewees and interviewers to leverage this influence for more effective interactions."
   ]
  }
 ],
 "metadata": {
  "colab": {
   "provenance": []
  },
  "kernelspec": {
   "display_name": "Python 3 (ipykernel)",
   "language": "python",
   "name": "python3"
  },
  "language_info": {
   "codemirror_mode": {
    "name": "ipython",
    "version": 3
   },
   "file_extension": ".py",
   "mimetype": "text/x-python",
   "name": "python",
   "nbconvert_exporter": "python",
   "pygments_lexer": "ipython3",
   "version": "3.11.4"
  }
 },
 "nbformat": 4,
 "nbformat_minor": 1
}
